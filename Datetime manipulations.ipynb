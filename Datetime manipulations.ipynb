{
 "cells": [
  {
   "cell_type": "code",
   "execution_count": 3,
   "metadata": {},
   "outputs": [],
   "source": [
    "from datetime import date\n",
    "from datetime import time\n",
    "from datetime import datetime"
   ]
  },
  {
   "cell_type": "code",
   "execution_count": 3,
   "metadata": {},
   "outputs": [],
   "source": [
    "  def main():\n",
    "    today = date.today()\n",
    "    print(\"Today's date is \", today)"
   ]
  },
  {
   "cell_type": "code",
   "execution_count": 4,
   "metadata": {},
   "outputs": [
    {
     "name": "stdout",
     "output_type": "stream",
     "text": [
      "Today's date is  2019-09-02\n"
     ]
    }
   ],
   "source": [
    "main()\n"
   ]
  },
  {
   "cell_type": "code",
   "execution_count": 6,
   "metadata": {},
   "outputs": [],
   "source": [
    "def main():\n",
    "    today = date.today()\n",
    "    print(\"Today's date is \", today)\n",
    "\n",
    "#PRINT INDIVIDUAL COMPONENETS OF DATE\n",
    "    print(\"Date Components:\" , today.day , today.month, today.year)"
   ]
  },
  {
   "cell_type": "code",
   "execution_count": 7,
   "metadata": {},
   "outputs": [
    {
     "name": "stdout",
     "output_type": "stream",
     "text": [
      "Today's date is  2019-09-02\n",
      "Date Components: 2 9 2019\n"
     ]
    }
   ],
   "source": [
    "main()"
   ]
  },
  {
   "cell_type": "code",
   "execution_count": 10,
   "metadata": {},
   "outputs": [],
   "source": [
    "#Print weekday number\n",
    "\n",
    "def main():\n",
    "    today = date.today()\n",
    "    print(\"Today's date is \", today)\n",
    "\n",
    "#PRINT INDIVIDUAL COMPONENETS OF DATE\n",
    "    print(\"Date Components:\" , today.day , today.month, today.year)\n",
    "\n",
    "#retrieve today's weekday number - 0 for monday and 6 for sunday\n",
    "    print(\"Today's weekday# : \", today.weekday())"
   ]
  },
  {
   "cell_type": "code",
   "execution_count": 11,
   "metadata": {},
   "outputs": [
    {
     "name": "stdout",
     "output_type": "stream",
     "text": [
      "Today's date is  2019-09-02\n",
      "Date Components: 2 9 2019\n",
      "Today's weekday# :  0\n"
     ]
    }
   ],
   "source": [
    "main()"
   ]
  },
  {
   "cell_type": "code",
   "execution_count": 23,
   "metadata": {},
   "outputs": [],
   "source": [
    "#We will apply our weekday indexer to our weekday's arrayList to know which day is today\n",
    "def main():\n",
    "    today = date.today()\n",
    "    wd = today.weekday()\n",
    "    days = [\"monday\",\"tuesday\",\"wednesday\",\"thursday\",\"friday\",\"saturday\",\"sunday\"]\n",
    "    print(\"Today is day number %d\", wd)\n",
    "    print(\"which is a \" +days[wd])"
   ]
  },
  {
   "cell_type": "code",
   "execution_count": 24,
   "metadata": {},
   "outputs": [
    {
     "name": "stdout",
     "output_type": "stream",
     "text": [
      "Today is day number %d 0\n",
      "which is a monday\n"
     ]
    }
   ],
   "source": [
    "main()"
   ]
  },
  {
   "cell_type": "code",
   "execution_count": 12,
   "metadata": {},
   "outputs": [],
   "source": [
    "#Print current datetime\n",
    "def main():\n",
    "    today = datetime.now()\n",
    "    print(\"The current date and time is\" , today)"
   ]
  },
  {
   "cell_type": "code",
   "execution_count": 13,
   "metadata": {},
   "outputs": [
    {
     "name": "stdout",
     "output_type": "stream",
     "text": [
      "The current date and time is 2019-09-02 11:06:27.050149\n"
     ]
    }
   ],
   "source": [
    "main()"
   ]
  },
  {
   "cell_type": "code",
   "execution_count": 16,
   "metadata": {},
   "outputs": [],
   "source": [
    "#Suppose we want to print just the current time without the date.\n",
    "\n",
    "def main():\n",
    "    t = datetime.time(datetime.now())\n",
    "    print(\"the current time is\" , t)"
   ]
  },
  {
   "cell_type": "code",
   "execution_count": 17,
   "metadata": {},
   "outputs": [
    {
     "name": "stdout",
     "output_type": "stream",
     "text": [
      "the current time is 11:08:36.580751\n"
     ]
    }
   ],
   "source": [
    "main()"
   ]
  },
  {
   "cell_type": "code",
   "execution_count": 27,
   "metadata": {},
   "outputs": [],
   "source": [
    "#How to Format Date and Time Output with Strftime()\n",
    "def main():\n",
    "    now = datetime.now()\n",
    "#%y%Y - Year , %a/%A - weekday , %b/%B - month , %d = day of the month\n",
    "    print(now.strftime(\"%Y\"))"
   ]
  },
  {
   "cell_type": "code",
   "execution_count": 28,
   "metadata": {},
   "outputs": [
    {
     "name": "stdout",
     "output_type": "stream",
     "text": [
      "2019\n"
     ]
    }
   ],
   "source": [
    "main()"
   ]
  },
  {
   "cell_type": "code",
   "execution_count": 29,
   "metadata": {},
   "outputs": [],
   "source": [
    "#to get only 19 - replace %Y with %y\n",
    "def main():\n",
    "    now = datetime.now()\n",
    "#%y%Y - Year , %a/%A - weekday , %b/%B - month , %d = day of the month\n",
    "    print(now.strftime(\"%y\"))"
   ]
  },
  {
   "cell_type": "code",
   "execution_count": 30,
   "metadata": {},
   "outputs": [
    {
     "name": "stdout",
     "output_type": "stream",
     "text": [
      "19\n"
     ]
    }
   ],
   "source": [
    "main()"
   ]
  },
  {
   "cell_type": "code",
   "execution_count": 34,
   "metadata": {},
   "outputs": [],
   "source": [
    "#Strf function can declare the date, day, month and year separately\n",
    "def main():\n",
    "    now = datetime.now()\n",
    "    print(now.strftime(\"%a,%d %B %y \"))"
   ]
  },
  {
   "cell_type": "code",
   "execution_count": 35,
   "metadata": {},
   "outputs": [
    {
     "name": "stdout",
     "output_type": "stream",
     "text": [
      "Mon,02 September 19 \n"
     ]
    }
   ],
   "source": [
    "main()"
   ]
  },
  {
   "cell_type": "code",
   "execution_count": 4,
   "metadata": {},
   "outputs": [],
   "source": [
    "#With the help of \"Strftime\" function we can also retrieve local system time, date or both.\n",
    "def main():\n",
    "    now = datetime.now()\n",
    "    print(now.strftime(\"%c\"))\n",
    "    print(now.strftime(\"%x\"))\n",
    "    print(now.strftime(\"%X\"))\n",
    "\n"
   ]
  },
  {
   "cell_type": "code",
   "execution_count": 5,
   "metadata": {},
   "outputs": [
    {
     "name": "stdout",
     "output_type": "stream",
     "text": [
      "Mon Sep  2 11:54:55 2019\n",
      "09/02/19\n",
      "11:54:55\n"
     ]
    }
   ],
   "source": [
    "main()"
   ]
  },
  {
   "cell_type": "code",
   "execution_count": 6,
   "metadata": {},
   "outputs": [],
   "source": [
    "#The \"strftime function\" allows you to call the time in any format 24 hours or 12 hours\n",
    "def main():\n",
    "    now=datetime.now()\n",
    "#%I/%H -12/24 Hour , %M - minute , %S - Second , %p - local's AM/PM\n",
    "    print(now.strftime(\"%I:%M:%S %p\"))\n",
    "    print(now.strftime(\"%H:%M\"))"
   ]
  },
  {
   "cell_type": "code",
   "execution_count": 7,
   "metadata": {},
   "outputs": [
    {
     "name": "stdout",
     "output_type": "stream",
     "text": [
      "11:58:31 AM\n",
      "11:58\n"
     ]
    }
   ],
   "source": [
    "main()"
   ]
  },
  {
   "cell_type": "code",
   "execution_count": 8,
   "metadata": {},
   "outputs": [
    {
     "name": "stdout",
     "output_type": "stream",
     "text": [
      "365 days, 8:15:00\n"
     ]
    }
   ],
   "source": [
    "#How to use Timedelta Objects\n",
    "from datetime import timedelta\n",
    "\n",
    "print(timedelta(days = 365, hours = 8,minutes=15))"
   ]
  },
  {
   "cell_type": "code",
   "execution_count": 9,
   "metadata": {},
   "outputs": [
    {
     "name": "stdout",
     "output_type": "stream",
     "text": [
      "365 days, 8:15:00\n",
      "today is:2019-09-02 12:06:59.219563\n"
     ]
    }
   ],
   "source": [
    "#print today's date\n",
    "print(timedelta(days = 365, hours = 8,minutes=15))\n",
    "\n",
    "print (\"today is:\" +str(datetime.now()))"
   ]
  },
  {
   "cell_type": "code",
   "execution_count": 17,
   "metadata": {},
   "outputs": [
    {
     "name": "stdout",
     "output_type": "stream",
     "text": [
      "365 days, 8:15:00\n",
      "today is:2019-09-02 12:16:29.195422\n",
      "one year from now it will be :2020-09-01 12:16:29.195422\n"
     ]
    }
   ],
   "source": [
    "#how we can retrieve date a year from now through delta objects\n",
    "\n",
    "print(timedelta(days = 365, hours = 8,minutes=15))\n",
    "\n",
    "print (\"today is:\" +str(datetime.now()))\n",
    "\n",
    "print(\"one year from now it will be :\"  + str(datetime.now() + timedelta(days = 365)))"
   ]
  },
  {
   "cell_type": "code",
   "execution_count": 19,
   "metadata": {},
   "outputs": [
    {
     "name": "stdout",
     "output_type": "stream",
     "text": [
      "365 days, 8:15:00\n",
      "today is:2019-09-02 12:21:24.435564\n",
      "in one week and 4 days from now it will be2019-09-13 12:21:24.435564\n"
     ]
    }
   ],
   "source": [
    "#Another example of how time delta can be used to calculate future date from current date and time\n",
    "print(timedelta(days = 365, hours = 8,minutes=15))\n",
    "\n",
    "print (\"today is:\" +str(datetime.now()))\n",
    "\n",
    "print(\"in one week and 4 days from now it will be\" + str(datetime.now() + timedelta(weeks = 1 , days = 4)))"
   ]
  },
  {
   "cell_type": "code",
   "execution_count": 20,
   "metadata": {},
   "outputs": [
    {
     "name": "stdout",
     "output_type": "stream",
     "text": [
      "New year day is already went by 244 days ago\n"
     ]
    }
   ],
   "source": [
    "# I would like to determine how many days past the New Year. \n",
    "\n",
    "today = date.today()\n",
    "nyd = date(today.year, 1,1)\n",
    "\n",
    "if nyd < today:\n",
    "    print (\"New year day is already went by %d days ago\" %((today - nyd).days))"
   ]
  },
  {
   "cell_type": "code",
   "execution_count": null,
   "metadata": {},
   "outputs": [],
   "source": []
  }
 ],
 "metadata": {
  "kernelspec": {
   "display_name": "Python 3",
   "language": "python",
   "name": "python3"
  },
  "language_info": {
   "codemirror_mode": {
    "name": "ipython",
    "version": 3
   },
   "file_extension": ".py",
   "mimetype": "text/x-python",
   "name": "python",
   "nbconvert_exporter": "python",
   "pygments_lexer": "ipython3",
   "version": "3.7.0"
  }
 },
 "nbformat": 4,
 "nbformat_minor": 2
}
